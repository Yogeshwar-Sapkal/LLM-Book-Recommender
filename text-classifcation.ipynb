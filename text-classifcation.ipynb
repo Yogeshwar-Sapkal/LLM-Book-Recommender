{
 "cells": [
  {
   "metadata": {},
   "cell_type": "markdown",
   "source": [
    "Now we will do text classification to classify the books in it's categories\n",
    "because normal vector seach does not give us as accurate results, we can consider it as a baseline result\n"
   ],
   "id": "5e40b0fe28088c19"
  },
  {
   "cell_type": "code",
   "id": "initial_id",
   "metadata": {
    "collapsed": true,
    "ExecuteTime": {
     "end_time": "2025-06-15T22:33:17.671092Z",
     "start_time": "2025-06-15T22:33:17.153029Z"
    }
   },
   "source": [
    "#just to see we have475 categories\n",
    "import pandas as pd\n",
    "books = pd.read_csv('books_cleaned.csv')\n",
    "\n",
    "books[\"categories\"].value_counts()"
   ],
   "outputs": [
    {
     "data": {
      "text/plain": [
       "categories\n",
       "Fiction                                    2075\n",
       "Juvenile Fiction                            377\n",
       "Biography & Autobiography                   302\n",
       "History                                     203\n",
       "Literary Criticism                          121\n",
       "                                           ... \n",
       "Amis, Kingsley                                1\n",
       "Dangerously mentally ill                      1\n",
       "Anger                                         1\n",
       "African Americans in radio broadcasting       1\n",
       "Otherland (Imaginary place)                   1\n",
       "Name: count, Length: 475, dtype: int64"
      ]
     },
     "execution_count": 2,
     "metadata": {},
     "output_type": "execute_result"
    }
   ],
   "execution_count": 2
  },
  {
   "metadata": {
    "ExecuteTime": {
     "end_time": "2025-06-15T22:40:23.469771Z",
     "start_time": "2025-06-15T22:40:23.214387Z"
    }
   },
   "cell_type": "code",
   "source": [
    "#to limit CATEGORIES we limit number of books in each category to greater than 50\n",
    "books[\"categories\"].value_counts().reset_index().query('count>50')"
   ],
   "id": "31c87a9d2bc44121",
   "outputs": [
    {
     "data": {
      "text/plain": [
       "                   categories  count\n",
       "0                     Fiction   2075\n",
       "1            Juvenile Fiction    377\n",
       "2   Biography & Autobiography    302\n",
       "3                     History    203\n",
       "4          Literary Criticism    121\n",
       "5     Comics & Graphic Novels    116\n",
       "6                  Philosophy    112\n",
       "7                    Religion    112\n",
       "8                       Drama     81\n",
       "9                     Science     55\n",
       "10        Juvenile Nonfiction     51"
      ],
      "text/html": [
       "<div>\n",
       "<style scoped>\n",
       "    .dataframe tbody tr th:only-of-type {\n",
       "        vertical-align: middle;\n",
       "    }\n",
       "\n",
       "    .dataframe tbody tr th {\n",
       "        vertical-align: top;\n",
       "    }\n",
       "\n",
       "    .dataframe thead th {\n",
       "        text-align: right;\n",
       "    }\n",
       "</style>\n",
       "<table border=\"1\" class=\"dataframe\">\n",
       "  <thead>\n",
       "    <tr style=\"text-align: right;\">\n",
       "      <th></th>\n",
       "      <th>categories</th>\n",
       "      <th>count</th>\n",
       "    </tr>\n",
       "  </thead>\n",
       "  <tbody>\n",
       "    <tr>\n",
       "      <th>0</th>\n",
       "      <td>Fiction</td>\n",
       "      <td>2075</td>\n",
       "    </tr>\n",
       "    <tr>\n",
       "      <th>1</th>\n",
       "      <td>Juvenile Fiction</td>\n",
       "      <td>377</td>\n",
       "    </tr>\n",
       "    <tr>\n",
       "      <th>2</th>\n",
       "      <td>Biography &amp; Autobiography</td>\n",
       "      <td>302</td>\n",
       "    </tr>\n",
       "    <tr>\n",
       "      <th>3</th>\n",
       "      <td>History</td>\n",
       "      <td>203</td>\n",
       "    </tr>\n",
       "    <tr>\n",
       "      <th>4</th>\n",
       "      <td>Literary Criticism</td>\n",
       "      <td>121</td>\n",
       "    </tr>\n",
       "    <tr>\n",
       "      <th>5</th>\n",
       "      <td>Comics &amp; Graphic Novels</td>\n",
       "      <td>116</td>\n",
       "    </tr>\n",
       "    <tr>\n",
       "      <th>6</th>\n",
       "      <td>Philosophy</td>\n",
       "      <td>112</td>\n",
       "    </tr>\n",
       "    <tr>\n",
       "      <th>7</th>\n",
       "      <td>Religion</td>\n",
       "      <td>112</td>\n",
       "    </tr>\n",
       "    <tr>\n",
       "      <th>8</th>\n",
       "      <td>Drama</td>\n",
       "      <td>81</td>\n",
       "    </tr>\n",
       "    <tr>\n",
       "      <th>9</th>\n",
       "      <td>Science</td>\n",
       "      <td>55</td>\n",
       "    </tr>\n",
       "    <tr>\n",
       "      <th>10</th>\n",
       "      <td>Juvenile Nonfiction</td>\n",
       "      <td>51</td>\n",
       "    </tr>\n",
       "  </tbody>\n",
       "</table>\n",
       "</div>"
      ]
     },
     "execution_count": 12,
     "metadata": {},
     "output_type": "execute_result"
    }
   ],
   "execution_count": 12
  },
  {
   "metadata": {
    "ExecuteTime": {
     "end_time": "2025-06-15T22:47:44.746581Z",
     "start_time": "2025-06-15T22:47:44.638609Z"
    }
   },
   "cell_type": "code",
   "source": [
    "#now we create a category mapping to classify catefgories as nonfiction and fiction\n",
    "category_mapping = {\"Biography & Autobiography\":\"Nonfiction\",\n",
    "               \"History\":\"Nonfiction\",\n",
    "                    \"Literary Criticism\":\"Nonfiction\",\n",
    "                    \"Philosophy\":\"Nonfiction\",\n",
    "                    \"Religion\":\"Nonfiction\",\n",
    "                    \"Comics & Graphic Novels\":\"Fiction\",\n",
    "                    \"Drama\":\"Fiction\",\n",
    "                    \"Juvenile Nonfiction\":\"Children's Nonfiction\",\n",
    "                    \"Science\":\"Nonfiction\",\n",
    "                    \"Poetry\":\"Fiction\",\n",
    "}\n",
    "\n",
    "books[\"simple_categories\"] = books[\"categories\"].map(category_mapping)\n"
   ],
   "id": "63526163e0b219fe",
   "outputs": [],
   "execution_count": 18
  },
  {
   "metadata": {
    "ExecuteTime": {
     "end_time": "2025-06-15T22:56:19.090874Z",
     "start_time": "2025-06-15T22:56:18.947981Z"
    }
   },
   "cell_type": "code",
   "source": "books.simple_categories.isna().sum()",
   "id": "259dfea3e756f094",
   "outputs": [
    {
     "data": {
      "text/plain": [
       "np.int64(3885)"
      ]
     },
     "execution_count": 23,
     "metadata": {},
     "output_type": "execute_result"
    }
   ],
   "execution_count": 23
  },
  {
   "metadata": {
    "ExecuteTime": {
     "end_time": "2025-06-15T23:08:08.287886Z",
     "start_time": "2025-06-15T23:08:05.896510Z"
    }
   },
   "cell_type": "code",
   "source": [
    "#using a hugging face for a zero shot classifcation\n",
    "from transformers import pipeline\n",
    "\n",
    "fiction_categories = [\"Fiction\", \"Nonfiction\"]\n",
    "pipe = pipeline(\"zero-shot-classification\", model=\"facebook/bart-large-mnli\")\n",
    "\n",
    "# pipe = pipeline(\"Zero-Shot-Classification\", model=\"facebook/bart-large-mnli\")"
   ],
   "id": "dc4826b5f581ca6c",
   "outputs": [
    {
     "name": "stderr",
     "output_type": "stream",
     "text": [
      "Device set to use cpu\n"
     ]
    }
   ],
   "execution_count": 25
  },
  {
   "metadata": {
    "ExecuteTime": {
     "end_time": "2025-06-16T00:54:29.664447Z",
     "start_time": "2025-06-16T00:54:29.631243Z"
    }
   },
   "cell_type": "code",
   "source": [
    "#the description of the book which we want to classify\n",
    "sequence = books.loc[books[\"simple_categories\"] == \"Nonfiction\", \"description\"].reset_index(drop=True)[1]\n",
    "sequence"
   ],
   "id": "139aacf7993e59a2",
   "outputs": [
    {
     "data": {
      "text/plain": [
       "\"At last...the public hearing she was denied...These essays reveal keen powers of analysis applied to some of the most obdurate problems that bedevil electoral politics. Anyone who cares about the mechanisms of democracy should be engaged by her tough-minded explorations. It doesn't matter where you think you stand: it's all here, to argue or agree with. -- Henry Louis Gates, Jr. Lani Guinier's fascinating book is a prophetic intervention into a public conversation we desperately need to rejuvenate. There is no doubt that her powerful voice will produce good consequences for our nation and world. -- Cornel West, Author of Race Matters Intriguing and desperately needed... -- The San Francisco Chronicle\""
      ]
     },
     "execution_count": 41,
     "metadata": {},
     "output_type": "execute_result"
    }
   ],
   "execution_count": 41
  },
  {
   "metadata": {
    "ExecuteTime": {
     "end_time": "2025-06-16T00:36:44.413324Z",
     "start_time": "2025-06-16T00:36:27.633562Z"
    }
   },
   "cell_type": "code",
   "source": [
    "#in the output, we get the labels and it's probability\n",
    "pipe(sequence, fiction_categories)"
   ],
   "id": "84710fe929b695ca",
   "outputs": [
    {
     "data": {
      "text/plain": [
       "{'sequence': \"Claudia Corvette. From her tousled bedroom hair to her name–all the porn stars in this world take their names from supermodels and sports cars–she is adult entertainment's prototypical femme fatale. Her life is the collision of countless troubled–childhood cliches and grown–up wet dreams, projected onto her as surely as her videos project their blue light onto lonely men around the world. From its first panel, How to Make Money Like a Porn Star draws the reader into the dark world of girls like Claudia, the men who fantasize about them, and the monsters who control them. In the hands of Rolling Stone writer Neil Strauss and illustrator Bernard Chang, this adult graphic novel weaves together black humor and blacker reality. Like all great American stories, it features humble beginnings, life–changing tragedy, stripping, abuse, implants, fame, addiction, bigger implants, abduction, gunplay, downfall, and even bigger implants. Not to mention a thousand shades of latex and L'Oreal. Part parody, part morality tale, here is the truth about the porn life, its outsized visual splendor captured in a comic parade of doe–eyed centerfolds, its essence distilled in a story that will haunt every reader who has ever wondered where his next fantasy is coming from.\",\n",
       " 'labels': ['Fiction', 'Nonfiction'],\n",
       " 'scores': [0.6302245855331421, 0.3697754740715027]}"
      ]
     },
     "execution_count": 34,
     "metadata": {},
     "output_type": "execute_result"
    }
   ],
   "execution_count": 34
  },
  {
   "metadata": {
    "ExecuteTime": {
     "end_time": "2025-06-16T00:36:53.326914Z",
     "start_time": "2025-06-16T00:36:53.303332Z"
    }
   },
   "cell_type": "code",
   "source": [
    "# better processing of output\n",
    "import numpy as np\n",
    "def generate_output(sequence, categories):\n",
    "     predictions = pipe(sequence, categories)\n",
    "     max_index = np.argmax(predictions['scores'])\n",
    "     max_label = predictions['labels'][max_index]\n",
    "     return max_label\n"
   ],
   "id": "52239faa068a3b87",
   "outputs": [],
   "execution_count": 35
  },
  {
   "metadata": {
    "ExecuteTime": {
     "end_time": "2025-06-16T00:53:44.924321Z",
     "start_time": "2025-06-16T00:48:14.963788Z"
    }
   },
   "cell_type": "code",
   "source": [
    "from tqdm import tqdm #tells us how much time will it take\n",
    "\n",
    "actual_cats = []\n",
    "\n",
    "predicted_cats = []\n",
    "\n",
    "# create lists of actual values and predicted values for fiction catefgory\n",
    "for i in tqdm(range(0,247)):\n",
    "    sequence = books.loc[books[\"simple_categories\"] == \"Fiction\", \"description\"].reset_index(drop=True)[i]\n",
    "    predicted_cats += [generate_output(sequence, fiction_categories)]\n",
    "    actual_cats += [\"Fiction\"]"
   ],
   "id": "fa3589b87babdba6",
   "outputs": [
    {
     "name": "stderr",
     "output_type": "stream",
     "text": [
      "100%|██████████| 247/247 [05:29<00:00,  1.34s/it]\n"
     ]
    }
   ],
   "execution_count": 38
  },
  {
   "metadata": {
    "ExecuteTime": {
     "end_time": "2025-06-16T01:03:16.339460Z",
     "start_time": "2025-06-16T00:54:34.590350Z"
    }
   },
   "cell_type": "code",
   "source": [
    "for i in tqdm(range(0,300)):\n",
    "    sequence = books.loc[books[\"simple_categories\"] == \"Nonfiction\", \"description\"].reset_index(drop=True)[i]\n",
    "    predicted_cats += [generate_output(sequence, fiction_categories)]\n",
    "    actual_cats += [\"Nonfiction\"]"
   ],
   "id": "40096b8857ad8155",
   "outputs": [
    {
     "name": "stderr",
     "output_type": "stream",
     "text": [
      "100%|██████████| 300/300 [08:41<00:00,  1.74s/it]\n"
     ]
    }
   ],
   "execution_count": 42
  },
  {
   "metadata": {
    "ExecuteTime": {
     "end_time": "2025-06-16T04:49:04.027499Z",
     "start_time": "2025-06-16T04:49:03.709191Z"
    }
   },
   "cell_type": "code",
   "source": "predictions_df = pd.DataFrame({\"actual_categories\" : actual_cats,\"predicted_categories\":predicted_cats})",
   "id": "a44c8a8b392c183f",
   "outputs": [],
   "execution_count": 43
  },
  {
   "metadata": {
    "ExecuteTime": {
     "end_time": "2025-06-16T04:49:06.067845Z",
     "start_time": "2025-06-16T04:49:05.967416Z"
    }
   },
   "cell_type": "code",
   "source": "predictions_df",
   "id": "132c634d59380daf",
   "outputs": [
    {
     "data": {
      "text/plain": [
       "    actual_categories predicted_categories\n",
       "0             Fiction           Nonfiction\n",
       "1             Fiction              Fiction\n",
       "2             Fiction           Nonfiction\n",
       "3             Fiction              Fiction\n",
       "4             Fiction              Fiction\n",
       "..                ...                  ...\n",
       "545        Nonfiction           Nonfiction\n",
       "546        Nonfiction           Nonfiction\n",
       "547        Nonfiction              Fiction\n",
       "548        Nonfiction           Nonfiction\n",
       "549        Nonfiction           Nonfiction\n",
       "\n",
       "[550 rows x 2 columns]"
      ],
      "text/html": [
       "<div>\n",
       "<style scoped>\n",
       "    .dataframe tbody tr th:only-of-type {\n",
       "        vertical-align: middle;\n",
       "    }\n",
       "\n",
       "    .dataframe tbody tr th {\n",
       "        vertical-align: top;\n",
       "    }\n",
       "\n",
       "    .dataframe thead th {\n",
       "        text-align: right;\n",
       "    }\n",
       "</style>\n",
       "<table border=\"1\" class=\"dataframe\">\n",
       "  <thead>\n",
       "    <tr style=\"text-align: right;\">\n",
       "      <th></th>\n",
       "      <th>actual_categories</th>\n",
       "      <th>predicted_categories</th>\n",
       "    </tr>\n",
       "  </thead>\n",
       "  <tbody>\n",
       "    <tr>\n",
       "      <th>0</th>\n",
       "      <td>Fiction</td>\n",
       "      <td>Nonfiction</td>\n",
       "    </tr>\n",
       "    <tr>\n",
       "      <th>1</th>\n",
       "      <td>Fiction</td>\n",
       "      <td>Fiction</td>\n",
       "    </tr>\n",
       "    <tr>\n",
       "      <th>2</th>\n",
       "      <td>Fiction</td>\n",
       "      <td>Nonfiction</td>\n",
       "    </tr>\n",
       "    <tr>\n",
       "      <th>3</th>\n",
       "      <td>Fiction</td>\n",
       "      <td>Fiction</td>\n",
       "    </tr>\n",
       "    <tr>\n",
       "      <th>4</th>\n",
       "      <td>Fiction</td>\n",
       "      <td>Fiction</td>\n",
       "    </tr>\n",
       "    <tr>\n",
       "      <th>...</th>\n",
       "      <td>...</td>\n",
       "      <td>...</td>\n",
       "    </tr>\n",
       "    <tr>\n",
       "      <th>545</th>\n",
       "      <td>Nonfiction</td>\n",
       "      <td>Nonfiction</td>\n",
       "    </tr>\n",
       "    <tr>\n",
       "      <th>546</th>\n",
       "      <td>Nonfiction</td>\n",
       "      <td>Nonfiction</td>\n",
       "    </tr>\n",
       "    <tr>\n",
       "      <th>547</th>\n",
       "      <td>Nonfiction</td>\n",
       "      <td>Fiction</td>\n",
       "    </tr>\n",
       "    <tr>\n",
       "      <th>548</th>\n",
       "      <td>Nonfiction</td>\n",
       "      <td>Nonfiction</td>\n",
       "    </tr>\n",
       "    <tr>\n",
       "      <th>549</th>\n",
       "      <td>Nonfiction</td>\n",
       "      <td>Nonfiction</td>\n",
       "    </tr>\n",
       "  </tbody>\n",
       "</table>\n",
       "<p>550 rows × 2 columns</p>\n",
       "</div>"
      ]
     },
     "execution_count": 44,
     "metadata": {},
     "output_type": "execute_result"
    }
   ],
   "execution_count": 44
  },
  {
   "metadata": {
    "ExecuteTime": {
     "end_time": "2025-06-16T05:58:44.707445Z",
     "start_time": "2025-06-16T05:58:44.526626Z"
    }
   },
   "cell_type": "code",
   "source": "predictions_df[\"correction_prediction\"] = (np.where(predictions_df[\"actual_categories\"] == predictions_df[\"predicted_categories\"], 1, 0))",
   "id": "a30d4f2d65b1b6e9",
   "outputs": [],
   "execution_count": 45
  },
  {
   "metadata": {
    "ExecuteTime": {
     "end_time": "2025-06-16T06:00:08.685576Z",
     "start_time": "2025-06-16T06:00:08.664743Z"
    }
   },
   "cell_type": "code",
   "source": [
    "# Accuracy\n",
    "predictions_df[\"correction_prediction\"].sum() / len(predictions_df)"
   ],
   "id": "422577e20ed8c99b",
   "outputs": [
    {
     "data": {
      "text/plain": [
       "np.float64(0.7181818181818181)"
      ]
     },
     "execution_count": 47,
     "metadata": {},
     "output_type": "execute_result"
    }
   ],
   "execution_count": 47
  },
  {
   "metadata": {
    "ExecuteTime": {
     "end_time": "2025-06-16T06:03:28.292833Z",
     "start_time": "2025-06-16T06:03:27.832378Z"
    }
   },
   "cell_type": "code",
   "source": [
    "isbns = []\n",
    "predicted_cats = []\n",
    "missing_cats = books.loc[books[\"simple_categories\"].isna(), [\"isbn13\",\"description\"]].reset_index(drop=True)"
   ],
   "id": "a7a5e5736fa1905c",
   "outputs": [],
   "execution_count": 48
  },
  {
   "metadata": {
    "ExecuteTime": {
     "end_time": "2025-06-16T07:33:58.341975Z",
     "start_time": "2025-06-16T06:06:10.484977Z"
    }
   },
   "cell_type": "code",
   "source": [
    "for i in tqdm(range(0,len(missing_cats))):\n",
    "    sequence = missing_cats[\"description\"][i]\n",
    "    predicted_cats += [generate_output(sequence, fiction_categories)]\n",
    "    isbns += [missing_cats[\"isbn13\"][i]]"
   ],
   "id": "1221adb3c4a1e9c6",
   "outputs": [
    {
     "name": "stderr",
     "output_type": "stream",
     "text": [
      "100%|██████████| 3885/3885 [1:27:47<00:00,  1.36s/it]  \n"
     ]
    }
   ],
   "execution_count": 49
  },
  {
   "metadata": {
    "ExecuteTime": {
     "end_time": "2025-06-16T22:05:47.069457Z",
     "start_time": "2025-06-16T22:05:46.927278Z"
    }
   },
   "cell_type": "code",
   "source": "missing_predicted_df = pd.DataFrame({\"isbn13\":isbns, \"predicted_categories\":predicted_cats})",
   "id": "b6dab73e6c0fc70c",
   "outputs": [],
   "execution_count": 50
  },
  {
   "metadata": {
    "ExecuteTime": {
     "end_time": "2025-06-16T22:06:00.921629Z",
     "start_time": "2025-06-16T22:06:00.776931Z"
    }
   },
   "cell_type": "code",
   "source": "missing_predicted_df",
   "id": "bdb6a5712e50b9b0",
   "outputs": [
    {
     "data": {
      "text/plain": [
       "             isbn13 predicted_categories\n",
       "0     9780002005883              Fiction\n",
       "1     9780002261982              Fiction\n",
       "2     9780006178736              Fiction\n",
       "3     9780006280897           Nonfiction\n",
       "4     9780006280934           Nonfiction\n",
       "...             ...                  ...\n",
       "3880  9788125026600           Nonfiction\n",
       "3881  9788171565641              Fiction\n",
       "3882  9788172235222              Fiction\n",
       "3883  9788173031014           Nonfiction\n",
       "3884  9788179921623              Fiction\n",
       "\n",
       "[3885 rows x 2 columns]"
      ],
      "text/html": [
       "<div>\n",
       "<style scoped>\n",
       "    .dataframe tbody tr th:only-of-type {\n",
       "        vertical-align: middle;\n",
       "    }\n",
       "\n",
       "    .dataframe tbody tr th {\n",
       "        vertical-align: top;\n",
       "    }\n",
       "\n",
       "    .dataframe thead th {\n",
       "        text-align: right;\n",
       "    }\n",
       "</style>\n",
       "<table border=\"1\" class=\"dataframe\">\n",
       "  <thead>\n",
       "    <tr style=\"text-align: right;\">\n",
       "      <th></th>\n",
       "      <th>isbn13</th>\n",
       "      <th>predicted_categories</th>\n",
       "    </tr>\n",
       "  </thead>\n",
       "  <tbody>\n",
       "    <tr>\n",
       "      <th>0</th>\n",
       "      <td>9780002005883</td>\n",
       "      <td>Fiction</td>\n",
       "    </tr>\n",
       "    <tr>\n",
       "      <th>1</th>\n",
       "      <td>9780002261982</td>\n",
       "      <td>Fiction</td>\n",
       "    </tr>\n",
       "    <tr>\n",
       "      <th>2</th>\n",
       "      <td>9780006178736</td>\n",
       "      <td>Fiction</td>\n",
       "    </tr>\n",
       "    <tr>\n",
       "      <th>3</th>\n",
       "      <td>9780006280897</td>\n",
       "      <td>Nonfiction</td>\n",
       "    </tr>\n",
       "    <tr>\n",
       "      <th>4</th>\n",
       "      <td>9780006280934</td>\n",
       "      <td>Nonfiction</td>\n",
       "    </tr>\n",
       "    <tr>\n",
       "      <th>...</th>\n",
       "      <td>...</td>\n",
       "      <td>...</td>\n",
       "    </tr>\n",
       "    <tr>\n",
       "      <th>3880</th>\n",
       "      <td>9788125026600</td>\n",
       "      <td>Nonfiction</td>\n",
       "    </tr>\n",
       "    <tr>\n",
       "      <th>3881</th>\n",
       "      <td>9788171565641</td>\n",
       "      <td>Fiction</td>\n",
       "    </tr>\n",
       "    <tr>\n",
       "      <th>3882</th>\n",
       "      <td>9788172235222</td>\n",
       "      <td>Fiction</td>\n",
       "    </tr>\n",
       "    <tr>\n",
       "      <th>3883</th>\n",
       "      <td>9788173031014</td>\n",
       "      <td>Nonfiction</td>\n",
       "    </tr>\n",
       "    <tr>\n",
       "      <th>3884</th>\n",
       "      <td>9788179921623</td>\n",
       "      <td>Fiction</td>\n",
       "    </tr>\n",
       "  </tbody>\n",
       "</table>\n",
       "<p>3885 rows × 2 columns</p>\n",
       "</div>"
      ]
     },
     "execution_count": 51,
     "metadata": {},
     "output_type": "execute_result"
    }
   ],
   "execution_count": 51
  },
  {
   "metadata": {
    "ExecuteTime": {
     "end_time": "2025-06-16T22:34:05.266344Z",
     "start_time": "2025-06-16T22:34:04.976560Z"
    }
   },
   "cell_type": "code",
   "source": [
    "books =pd.merge(books, missing_predicted_df, on=\"isbn13\", how=\"left\")\n",
    "books['simple_categories'] =np.where(books['simple_categories'].isna(), books['predicted_categories'],books['simple_categories'])\n",
    "books = books.drop(columns = ['predicted_categories'])"
   ],
   "id": "99049c616b024fd2",
   "outputs": [],
   "execution_count": 56
  },
  {
   "metadata": {
    "ExecuteTime": {
     "end_time": "2025-06-16T22:37:45.936664Z",
     "start_time": "2025-06-16T22:37:45.274015Z"
    }
   },
   "cell_type": "code",
   "source": "books",
   "id": "a968f2c61cb64849",
   "outputs": [
    {
     "data": {
      "text/plain": [
       "             isbn13      isbn10  \\\n",
       "0     9780002005883  0002005883   \n",
       "1     9780002261982  0002261987   \n",
       "2     9780006178736  0006178731   \n",
       "3     9780006280897  0006280897   \n",
       "4     9780006280934  0006280935   \n",
       "...             ...         ...   \n",
       "5083  9788172235222  8172235224   \n",
       "5084  9788173031014  8173031010   \n",
       "5085  9788179921623  817992162X   \n",
       "5086  9788185300535  8185300534   \n",
       "5087  9789027712059  9027712050   \n",
       "\n",
       "                                                  title  \\\n",
       "0                                                Gilead   \n",
       "1                                          Spider's Web   \n",
       "2                                        Rage of angels   \n",
       "3                                        The Four Loves   \n",
       "4                                   The Problem of Pain   \n",
       "...                                                 ...   \n",
       "5083                                  Mistaken Identity   \n",
       "5084                                Journey to the East   \n",
       "5085  The Monk Who Sold His Ferrari: A Fable About F...   \n",
       "5086                                          I Am that   \n",
       "5087                           The Berlin Phenomenology   \n",
       "\n",
       "                                           authors  \\\n",
       "0                               Marilynne Robinson   \n",
       "1                  Charles Osborne;Agatha Christie   \n",
       "2                                   Sidney Sheldon   \n",
       "3                              Clive Staples Lewis   \n",
       "4                              Clive Staples Lewis   \n",
       "...                                            ...   \n",
       "5083                              Nayantara Sahgal   \n",
       "5084                                 Hermann Hesse   \n",
       "5085                                  Robin Sharma   \n",
       "5086  Sri Nisargadatta Maharaj;Sudhakar S. Dikshit   \n",
       "5087                 Georg Wilhelm Friedrich Hegel   \n",
       "\n",
       "                         categories  \\\n",
       "0                           Fiction   \n",
       "1     Detective and mystery stories   \n",
       "2                           Fiction   \n",
       "3                    Christian life   \n",
       "4                    Christian life   \n",
       "...                             ...   \n",
       "5083        Indic fiction (English)   \n",
       "5084              Adventure stories   \n",
       "5085               Health & Fitness   \n",
       "5086                     Philosophy   \n",
       "5087                        History   \n",
       "\n",
       "                                              thumbnail  \\\n",
       "0     http://books.google.com/books/content?id=KQZCP...   \n",
       "1     http://books.google.com/books/content?id=gA5GP...   \n",
       "2     http://books.google.com/books/content?id=FKo2T...   \n",
       "3     http://books.google.com/books/content?id=XhQ5X...   \n",
       "4     http://books.google.com/books/content?id=Kk-uV...   \n",
       "...                                                 ...   \n",
       "5083  http://books.google.com/books/content?id=q-tKP...   \n",
       "5084  http://books.google.com/books/content?id=rq6JP...   \n",
       "5085  http://books.google.com/books/content?id=c_7mf...   \n",
       "5086  http://books.google.com/books/content?id=Fv_JP...   \n",
       "5087  http://books.google.com/books/content?id=Vy7Sk...   \n",
       "\n",
       "                                            description  published_year  \\\n",
       "0     A NOVEL THAT READERS and critics have been eag...          2004.0   \n",
       "1     A new 'Christie for Christmas' -- a full-lengt...          2000.0   \n",
       "2     A memorable, mesmerizing heroine Jennifer -- b...          1993.0   \n",
       "3     Lewis' work on the nature of love divides love...          2002.0   \n",
       "4     \"In The Problem of Pain, C.S. Lewis, one of th...          2002.0   \n",
       "...                                                 ...             ...   \n",
       "5083  On A Train Journey Home To North India After L...          2003.0   \n",
       "5084  This book tells the tale of a man who goes on ...          2002.0   \n",
       "5085  Wisdom to Create a Life of Passion, Purpose, a...          2003.0   \n",
       "5086  This collection of the timeless teachings of o...          1999.0   \n",
       "5087  Since the three volume edition ofHegel's Philo...          1981.0   \n",
       "\n",
       "      average_rating  num_pages  ratings_count  \\\n",
       "0               3.85      247.0          361.0   \n",
       "1               3.83      241.0         5164.0   \n",
       "2               3.93      512.0        29532.0   \n",
       "3               4.15      170.0        33684.0   \n",
       "4               4.09      176.0        37569.0   \n",
       "...              ...        ...            ...   \n",
       "5083            2.93      324.0            0.0   \n",
       "5084            3.70      175.0           24.0   \n",
       "5085            3.82      198.0         1568.0   \n",
       "5086            4.51      531.0          104.0   \n",
       "5087            0.00      210.0            0.0   \n",
       "\n",
       "                                     title and subtitle  \\\n",
       "0                                                Gilead   \n",
       "1                                 Spider's Web: A Novel   \n",
       "2                                        Rage of angels   \n",
       "3                                        The Four Loves   \n",
       "4                                   The Problem of Pain   \n",
       "...                                                 ...   \n",
       "5083                                  Mistaken Identity   \n",
       "5084                                Journey to the East   \n",
       "5085  The Monk Who Sold His Ferrari: A Fable About F...   \n",
       "5086     I Am that: Talks with Sri Nisargadatta Maharaj   \n",
       "5087                           The Berlin Phenomenology   \n",
       "\n",
       "                                     tagged_description simple_categories  \\\n",
       "0     9780002005883 A NOVEL THAT READERS and critics...           Fiction   \n",
       "1     9780002261982 A new 'Christie for Christmas' -...           Fiction   \n",
       "2     9780006178736 A memorable, mesmerizing heroine...           Fiction   \n",
       "3     9780006280897 Lewis' work on the nature of lov...        Nonfiction   \n",
       "4     9780006280934 \"In The Problem of Pain, C.S. Le...        Nonfiction   \n",
       "...                                                 ...               ...   \n",
       "5083  9788172235222 On A Train Journey Home To North...           Fiction   \n",
       "5084  9788173031014 This book tells the tale of a ma...        Nonfiction   \n",
       "5085  9788179921623 Wisdom to Create a Life of Passi...           Fiction   \n",
       "5086  9788185300535 This collection of the timeless ...        Nonfiction   \n",
       "5087  9789027712059 Since the three volume edition o...        Nonfiction   \n",
       "\n",
       "     predicted_categories_x predicted_categories_y  \n",
       "0                   Fiction                Fiction  \n",
       "1                   Fiction                Fiction  \n",
       "2                   Fiction                Fiction  \n",
       "3                Nonfiction             Nonfiction  \n",
       "4                Nonfiction             Nonfiction  \n",
       "...                     ...                    ...  \n",
       "5083                Fiction                Fiction  \n",
       "5084             Nonfiction             Nonfiction  \n",
       "5085                Fiction                Fiction  \n",
       "5086                    NaN                    NaN  \n",
       "5087                    NaN                    NaN  \n",
       "\n",
       "[5088 rows x 16 columns]"
      ],
      "text/html": [
       "<div>\n",
       "<style scoped>\n",
       "    .dataframe tbody tr th:only-of-type {\n",
       "        vertical-align: middle;\n",
       "    }\n",
       "\n",
       "    .dataframe tbody tr th {\n",
       "        vertical-align: top;\n",
       "    }\n",
       "\n",
       "    .dataframe thead th {\n",
       "        text-align: right;\n",
       "    }\n",
       "</style>\n",
       "<table border=\"1\" class=\"dataframe\">\n",
       "  <thead>\n",
       "    <tr style=\"text-align: right;\">\n",
       "      <th></th>\n",
       "      <th>isbn13</th>\n",
       "      <th>isbn10</th>\n",
       "      <th>title</th>\n",
       "      <th>authors</th>\n",
       "      <th>categories</th>\n",
       "      <th>thumbnail</th>\n",
       "      <th>description</th>\n",
       "      <th>published_year</th>\n",
       "      <th>average_rating</th>\n",
       "      <th>num_pages</th>\n",
       "      <th>ratings_count</th>\n",
       "      <th>title and subtitle</th>\n",
       "      <th>tagged_description</th>\n",
       "      <th>simple_categories</th>\n",
       "      <th>predicted_categories_x</th>\n",
       "      <th>predicted_categories_y</th>\n",
       "    </tr>\n",
       "  </thead>\n",
       "  <tbody>\n",
       "    <tr>\n",
       "      <th>0</th>\n",
       "      <td>9780002005883</td>\n",
       "      <td>0002005883</td>\n",
       "      <td>Gilead</td>\n",
       "      <td>Marilynne Robinson</td>\n",
       "      <td>Fiction</td>\n",
       "      <td>http://books.google.com/books/content?id=KQZCP...</td>\n",
       "      <td>A NOVEL THAT READERS and critics have been eag...</td>\n",
       "      <td>2004.0</td>\n",
       "      <td>3.85</td>\n",
       "      <td>247.0</td>\n",
       "      <td>361.0</td>\n",
       "      <td>Gilead</td>\n",
       "      <td>9780002005883 A NOVEL THAT READERS and critics...</td>\n",
       "      <td>Fiction</td>\n",
       "      <td>Fiction</td>\n",
       "      <td>Fiction</td>\n",
       "    </tr>\n",
       "    <tr>\n",
       "      <th>1</th>\n",
       "      <td>9780002261982</td>\n",
       "      <td>0002261987</td>\n",
       "      <td>Spider's Web</td>\n",
       "      <td>Charles Osborne;Agatha Christie</td>\n",
       "      <td>Detective and mystery stories</td>\n",
       "      <td>http://books.google.com/books/content?id=gA5GP...</td>\n",
       "      <td>A new 'Christie for Christmas' -- a full-lengt...</td>\n",
       "      <td>2000.0</td>\n",
       "      <td>3.83</td>\n",
       "      <td>241.0</td>\n",
       "      <td>5164.0</td>\n",
       "      <td>Spider's Web: A Novel</td>\n",
       "      <td>9780002261982 A new 'Christie for Christmas' -...</td>\n",
       "      <td>Fiction</td>\n",
       "      <td>Fiction</td>\n",
       "      <td>Fiction</td>\n",
       "    </tr>\n",
       "    <tr>\n",
       "      <th>2</th>\n",
       "      <td>9780006178736</td>\n",
       "      <td>0006178731</td>\n",
       "      <td>Rage of angels</td>\n",
       "      <td>Sidney Sheldon</td>\n",
       "      <td>Fiction</td>\n",
       "      <td>http://books.google.com/books/content?id=FKo2T...</td>\n",
       "      <td>A memorable, mesmerizing heroine Jennifer -- b...</td>\n",
       "      <td>1993.0</td>\n",
       "      <td>3.93</td>\n",
       "      <td>512.0</td>\n",
       "      <td>29532.0</td>\n",
       "      <td>Rage of angels</td>\n",
       "      <td>9780006178736 A memorable, mesmerizing heroine...</td>\n",
       "      <td>Fiction</td>\n",
       "      <td>Fiction</td>\n",
       "      <td>Fiction</td>\n",
       "    </tr>\n",
       "    <tr>\n",
       "      <th>3</th>\n",
       "      <td>9780006280897</td>\n",
       "      <td>0006280897</td>\n",
       "      <td>The Four Loves</td>\n",
       "      <td>Clive Staples Lewis</td>\n",
       "      <td>Christian life</td>\n",
       "      <td>http://books.google.com/books/content?id=XhQ5X...</td>\n",
       "      <td>Lewis' work on the nature of love divides love...</td>\n",
       "      <td>2002.0</td>\n",
       "      <td>4.15</td>\n",
       "      <td>170.0</td>\n",
       "      <td>33684.0</td>\n",
       "      <td>The Four Loves</td>\n",
       "      <td>9780006280897 Lewis' work on the nature of lov...</td>\n",
       "      <td>Nonfiction</td>\n",
       "      <td>Nonfiction</td>\n",
       "      <td>Nonfiction</td>\n",
       "    </tr>\n",
       "    <tr>\n",
       "      <th>4</th>\n",
       "      <td>9780006280934</td>\n",
       "      <td>0006280935</td>\n",
       "      <td>The Problem of Pain</td>\n",
       "      <td>Clive Staples Lewis</td>\n",
       "      <td>Christian life</td>\n",
       "      <td>http://books.google.com/books/content?id=Kk-uV...</td>\n",
       "      <td>\"In The Problem of Pain, C.S. Lewis, one of th...</td>\n",
       "      <td>2002.0</td>\n",
       "      <td>4.09</td>\n",
       "      <td>176.0</td>\n",
       "      <td>37569.0</td>\n",
       "      <td>The Problem of Pain</td>\n",
       "      <td>9780006280934 \"In The Problem of Pain, C.S. Le...</td>\n",
       "      <td>Nonfiction</td>\n",
       "      <td>Nonfiction</td>\n",
       "      <td>Nonfiction</td>\n",
       "    </tr>\n",
       "    <tr>\n",
       "      <th>...</th>\n",
       "      <td>...</td>\n",
       "      <td>...</td>\n",
       "      <td>...</td>\n",
       "      <td>...</td>\n",
       "      <td>...</td>\n",
       "      <td>...</td>\n",
       "      <td>...</td>\n",
       "      <td>...</td>\n",
       "      <td>...</td>\n",
       "      <td>...</td>\n",
       "      <td>...</td>\n",
       "      <td>...</td>\n",
       "      <td>...</td>\n",
       "      <td>...</td>\n",
       "      <td>...</td>\n",
       "      <td>...</td>\n",
       "    </tr>\n",
       "    <tr>\n",
       "      <th>5083</th>\n",
       "      <td>9788172235222</td>\n",
       "      <td>8172235224</td>\n",
       "      <td>Mistaken Identity</td>\n",
       "      <td>Nayantara Sahgal</td>\n",
       "      <td>Indic fiction (English)</td>\n",
       "      <td>http://books.google.com/books/content?id=q-tKP...</td>\n",
       "      <td>On A Train Journey Home To North India After L...</td>\n",
       "      <td>2003.0</td>\n",
       "      <td>2.93</td>\n",
       "      <td>324.0</td>\n",
       "      <td>0.0</td>\n",
       "      <td>Mistaken Identity</td>\n",
       "      <td>9788172235222 On A Train Journey Home To North...</td>\n",
       "      <td>Fiction</td>\n",
       "      <td>Fiction</td>\n",
       "      <td>Fiction</td>\n",
       "    </tr>\n",
       "    <tr>\n",
       "      <th>5084</th>\n",
       "      <td>9788173031014</td>\n",
       "      <td>8173031010</td>\n",
       "      <td>Journey to the East</td>\n",
       "      <td>Hermann Hesse</td>\n",
       "      <td>Adventure stories</td>\n",
       "      <td>http://books.google.com/books/content?id=rq6JP...</td>\n",
       "      <td>This book tells the tale of a man who goes on ...</td>\n",
       "      <td>2002.0</td>\n",
       "      <td>3.70</td>\n",
       "      <td>175.0</td>\n",
       "      <td>24.0</td>\n",
       "      <td>Journey to the East</td>\n",
       "      <td>9788173031014 This book tells the tale of a ma...</td>\n",
       "      <td>Nonfiction</td>\n",
       "      <td>Nonfiction</td>\n",
       "      <td>Nonfiction</td>\n",
       "    </tr>\n",
       "    <tr>\n",
       "      <th>5085</th>\n",
       "      <td>9788179921623</td>\n",
       "      <td>817992162X</td>\n",
       "      <td>The Monk Who Sold His Ferrari: A Fable About F...</td>\n",
       "      <td>Robin Sharma</td>\n",
       "      <td>Health &amp; Fitness</td>\n",
       "      <td>http://books.google.com/books/content?id=c_7mf...</td>\n",
       "      <td>Wisdom to Create a Life of Passion, Purpose, a...</td>\n",
       "      <td>2003.0</td>\n",
       "      <td>3.82</td>\n",
       "      <td>198.0</td>\n",
       "      <td>1568.0</td>\n",
       "      <td>The Monk Who Sold His Ferrari: A Fable About F...</td>\n",
       "      <td>9788179921623 Wisdom to Create a Life of Passi...</td>\n",
       "      <td>Fiction</td>\n",
       "      <td>Fiction</td>\n",
       "      <td>Fiction</td>\n",
       "    </tr>\n",
       "    <tr>\n",
       "      <th>5086</th>\n",
       "      <td>9788185300535</td>\n",
       "      <td>8185300534</td>\n",
       "      <td>I Am that</td>\n",
       "      <td>Sri Nisargadatta Maharaj;Sudhakar S. Dikshit</td>\n",
       "      <td>Philosophy</td>\n",
       "      <td>http://books.google.com/books/content?id=Fv_JP...</td>\n",
       "      <td>This collection of the timeless teachings of o...</td>\n",
       "      <td>1999.0</td>\n",
       "      <td>4.51</td>\n",
       "      <td>531.0</td>\n",
       "      <td>104.0</td>\n",
       "      <td>I Am that: Talks with Sri Nisargadatta Maharaj</td>\n",
       "      <td>9788185300535 This collection of the timeless ...</td>\n",
       "      <td>Nonfiction</td>\n",
       "      <td>NaN</td>\n",
       "      <td>NaN</td>\n",
       "    </tr>\n",
       "    <tr>\n",
       "      <th>5087</th>\n",
       "      <td>9789027712059</td>\n",
       "      <td>9027712050</td>\n",
       "      <td>The Berlin Phenomenology</td>\n",
       "      <td>Georg Wilhelm Friedrich Hegel</td>\n",
       "      <td>History</td>\n",
       "      <td>http://books.google.com/books/content?id=Vy7Sk...</td>\n",
       "      <td>Since the three volume edition ofHegel's Philo...</td>\n",
       "      <td>1981.0</td>\n",
       "      <td>0.00</td>\n",
       "      <td>210.0</td>\n",
       "      <td>0.0</td>\n",
       "      <td>The Berlin Phenomenology</td>\n",
       "      <td>9789027712059 Since the three volume edition o...</td>\n",
       "      <td>Nonfiction</td>\n",
       "      <td>NaN</td>\n",
       "      <td>NaN</td>\n",
       "    </tr>\n",
       "  </tbody>\n",
       "</table>\n",
       "<p>5088 rows × 16 columns</p>\n",
       "</div>"
      ]
     },
     "execution_count": 57,
     "metadata": {},
     "output_type": "execute_result"
    }
   ],
   "execution_count": 57
  },
  {
   "metadata": {
    "ExecuteTime": {
     "end_time": "2025-06-16T22:41:52.170978Z",
     "start_time": "2025-06-16T22:41:51.290066Z"
    }
   },
   "cell_type": "code",
   "source": "books.to_csv(\"books_with_categories.csv\", index=False)",
   "id": "69cf57c4eec3a7ab",
   "outputs": [],
   "execution_count": 58
  }
 ],
 "metadata": {
  "kernelspec": {
   "display_name": "Python 3",
   "language": "python",
   "name": "python3"
  },
  "language_info": {
   "codemirror_mode": {
    "name": "ipython",
    "version": 2
   },
   "file_extension": ".py",
   "mimetype": "text/x-python",
   "name": "python",
   "nbconvert_exporter": "python",
   "pygments_lexer": "ipython2",
   "version": "2.7.6"
  }
 },
 "nbformat": 4,
 "nbformat_minor": 5
}
